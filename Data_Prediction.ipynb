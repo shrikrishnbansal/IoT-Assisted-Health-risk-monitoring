{
 "cells": [
  {
   "cell_type": "code",
   "execution_count": 1,
   "metadata": {},
   "outputs": [],
   "source": [
    "#import required libraries\n",
    "import numpy as np\n",
    "import pandas as pd\n",
    "from sklearn.model_selection import train_test_split\n",
    "#from sklearn.cross_validation import train_test_split\n",
    "from sklearn.metrics import accuracy_score\n",
    "from sklearn.metrics import classification_report\n",
    "from sklearn.neighbors import KNeighborsClassifier\n",
    "from sklearn.svm import SVC\n",
    "from sklearn.neural_network import MLPClassifier\n",
    "from sklearn.tree import DecisionTreeClassifier\n",
    "from sklearn.naive_bayes import GaussianNB \n",
    "from sklearn.preprocessing import StandardScaler\n",
    "from sklearn.metrics import mean_absolute_error"
   ]
  },
  {
   "cell_type": "code",
   "execution_count": 2,
   "metadata": {},
   "outputs": [],
   "source": [
    "#load excel file\n",
    "df = pd.read_excel('IoT_Categorization_output.xlsx')"
   ]
  },
  {
   "cell_type": "code",
   "execution_count": 3,
   "metadata": {},
   "outputs": [],
   "source": [
    "df.dropna(subset = [\"Class\"], inplace=True)"
   ]
  },
  {
   "cell_type": "code",
   "execution_count": 4,
   "metadata": {},
   "outputs": [],
   "source": [
    "#diving x,y into train and test dataset\n",
    "df['Class']=df['Class'].astype(int)\n",
    "x = df.drop('Class', axis=1)\n",
    "y = df['Class']\n",
    "x_train, x_test, y_train, y_test = train_test_split(x, y, test_size=0.25, random_state=0)"
   ]
  },
  {
   "cell_type": "code",
   "execution_count": 5,
   "metadata": {},
   "outputs": [
    {
     "name": "stderr",
     "output_type": "stream",
     "text": [
      "C:\\Users\\Dell\\Anaconda3\\lib\\site-packages\\sklearn\\preprocessing\\data.py:645: DataConversionWarning: Data with input dtype int64 were all converted to float64 by StandardScaler.\n",
      "  return self.partial_fit(X, y)\n",
      "C:\\Users\\Dell\\Anaconda3\\lib\\site-packages\\sklearn\\base.py:464: DataConversionWarning: Data with input dtype int64 were all converted to float64 by StandardScaler.\n",
      "  return self.fit(X, **fit_params).transform(X)\n",
      "C:\\Users\\Dell\\Anaconda3\\lib\\site-packages\\ipykernel_launcher.py:3: DataConversionWarning: Data with input dtype int64 were all converted to float64 by StandardScaler.\n",
      "  This is separate from the ipykernel package so we can avoid doing imports until\n"
     ]
    }
   ],
   "source": [
    "sc_X = StandardScaler()\n",
    "x_train = sc_X.fit_transform(x_train)\n",
    "x_test = sc_X.transform(x_test)"
   ]
  },
  {
   "cell_type": "code",
   "execution_count": 6,
   "metadata": {},
   "outputs": [],
   "source": [
    "#training a DecisionTreeClassifier\n",
    "model_dtree = DecisionTreeClassifier(max_depth = 2).fit(x_train, y_train) \n",
    "y_pred_dtree = model_dtree.predict(x_test)"
   ]
  },
  {
   "cell_type": "code",
   "execution_count": 7,
   "metadata": {},
   "outputs": [],
   "source": [
    "#training knn\n",
    "model_knn = KNeighborsClassifier(n_neighbors = 15).fit(x_train, y_train)\n",
    "y_pred_knn = model_knn.predict(x_test)"
   ]
  },
  {
   "cell_type": "code",
   "execution_count": 8,
   "metadata": {},
   "outputs": [],
   "source": [
    "#training ann\n",
    "model_ann = MLPClassifier(hidden_layer_sizes=(8,8,8), activation='relu', solver='adam', max_iter=500).fit(x_train,y_train)\n",
    "y_pred_ann = model_ann.predict(x_test)"
   ]
  },
  {
   "cell_type": "code",
   "execution_count": 9,
   "metadata": {},
   "outputs": [],
   "source": [
    "#training SVM\n",
    "model_svm = SVC(kernel = 'linear', C = 1).fit(x_train,y_train)\n",
    "y_pred_svm = model_svm.predict(x_test)"
   ]
  },
  {
   "cell_type": "code",
   "execution_count": 10,
   "metadata": {},
   "outputs": [],
   "source": [
    "#training Naive byes\n",
    "model_nb = GaussianNB().fit(x_train,y_train) \n",
    "y_pred_nb = model_nb.predict(x_test)"
   ]
  },
  {
   "cell_type": "code",
   "execution_count": 11,
   "metadata": {},
   "outputs": [
    {
     "name": "stdout",
     "output_type": "stream",
     "text": [
      "0.7700393446473662\n",
      "0.9906629866697986\n",
      "0.9977097891831581\n",
      "0.999471489811498\n",
      "0.9967702155147102\n"
     ]
    }
   ],
   "source": [
    "#accuracy on x_test\n",
    "accuracy_nb = accuracy_score(y_test, y_pred_nb)\n",
    "accuracy_knn = accuracy_score(y_test, y_pred_knn)\n",
    "accuracy_svm = accuracy_score(y_test, y_pred_svm)\n",
    "accuracy_ann = accuracy_score(y_test, y_pred_ann)\n",
    "accuracy_dtree = accuracy_score(y_test, y_pred_dtree)\n",
    "print(accuracy_nb)\n",
    "print(accuracy_knn)\n",
    "print(accuracy_svm)\n",
    "print(accuracy_ann)\n",
    "print(accuracy_dtree)"
   ]
  },
  {
   "cell_type": "code",
   "execution_count": 13,
   "metadata": {},
   "outputs": [
    {
     "name": "stdout",
     "output_type": "stream",
     "text": [
      "              precision    recall  f1-score   support\n",
      "\n",
      "           1       0.23      1.00      0.38      1136\n",
      "           2       1.00      0.75      0.86     15604\n",
      "           3       0.59      0.97      0.74       289\n",
      "\n",
      "   micro avg       0.77      0.77      0.77     17029\n",
      "   macro avg       0.61      0.91      0.66     17029\n",
      "weighted avg       0.94      0.77      0.82     17029\n",
      "\n",
      "              precision    recall  f1-score   support\n",
      "\n",
      "           1       0.97      0.92      0.95      1136\n",
      "           2       0.99      1.00      0.99     15604\n",
      "           3       0.95      0.89      0.92       289\n",
      "\n",
      "   micro avg       0.99      0.99      0.99     17029\n",
      "   macro avg       0.97      0.94      0.95     17029\n",
      "weighted avg       0.99      0.99      0.99     17029\n",
      "\n",
      "              precision    recall  f1-score   support\n",
      "\n",
      "           1       0.98      1.00      0.99      1136\n",
      "           2       1.00      1.00      1.00     15604\n",
      "           3       0.97      0.97      0.97       289\n",
      "\n",
      "   micro avg       1.00      1.00      1.00     17029\n",
      "   macro avg       0.98      0.99      0.99     17029\n",
      "weighted avg       1.00      1.00      1.00     17029\n",
      "\n",
      "              precision    recall  f1-score   support\n",
      "\n",
      "           1       1.00      1.00      1.00      1136\n",
      "           2       1.00      1.00      1.00     15604\n",
      "           3       0.98      0.99      0.98       289\n",
      "\n",
      "   micro avg       1.00      1.00      1.00     17029\n",
      "   macro avg       0.99      1.00      0.99     17029\n",
      "weighted avg       1.00      1.00      1.00     17029\n",
      "\n",
      "              precision    recall  f1-score   support\n",
      "\n",
      "           1       1.00      1.00      1.00      1136\n",
      "           2       1.00      1.00      1.00     15604\n",
      "           3       0.91      0.90      0.90       289\n",
      "\n",
      "   micro avg       1.00      1.00      1.00     17029\n",
      "   macro avg       0.97      0.97      0.97     17029\n",
      "weighted avg       1.00      1.00      1.00     17029\n",
      "\n"
     ]
    }
   ],
   "source": [
    "report_nb = classification_report(y_test, y_pred_nb)\n",
    "report_knn = classification_report(y_test, y_pred_knn)\n",
    "report_svm = classification_report(y_test, y_pred_svm)\n",
    "report_ann = classification_report(y_test, y_pred_ann)\n",
    "report_dtree = classification_report(y_test, y_pred_dtree)\n",
    "print(report_nb)\n",
    "print(report_knn)\n",
    "print(report_svm)\n",
    "print(report_ann)\n",
    "print(report_dtree)"
   ]
  },
  {
   "cell_type": "code",
   "execution_count": 18,
   "metadata": {
    "scrolled": true
   },
   "outputs": [
    {
     "name": "stdout",
     "output_type": "stream",
     "text": [
      "0.2305478888954137\n",
      "0.009337013330201422\n",
      "0.0023489341711198544\n",
      "0.00023489341711198543\n",
      "0.0032297844852898\n"
     ]
    }
   ],
   "source": [
    "MEA_nb = mean_absolute_error(y_test, y_pred_nb)\n",
    "MEA_knn = mean_absolute_error(y_test, y_pred_knn)\n",
    "MEA_svm = mean_absolute_error(y_test, y_pred_svm)\n",
    "MEA_ann = mean_absolute_error(y_test, y_pred_ann)\n",
    "MEA_dtree = mean_absolute_error(y_test, y_pred_dtree)\n",
    "print(MEA_nb)\n",
    "print(MEA_knn)\n",
    "print(MEA_svm)\n",
    "print(MEA_ann)\n",
    "print(MEA_dtree)"
   ]
  },
  {
   "cell_type": "code",
   "execution_count": null,
   "metadata": {},
   "outputs": [],
   "source": []
  }
 ],
 "metadata": {
  "kernelspec": {
   "display_name": "Python 3",
   "language": "python",
   "name": "python3"
  },
  "language_info": {
   "codemirror_mode": {
    "name": "ipython",
    "version": 3
   },
   "file_extension": ".py",
   "mimetype": "text/x-python",
   "name": "python",
   "nbconvert_exporter": "python",
   "pygments_lexer": "ipython3",
   "version": "3.7.3"
  }
 },
 "nbformat": 4,
 "nbformat_minor": 4
}
