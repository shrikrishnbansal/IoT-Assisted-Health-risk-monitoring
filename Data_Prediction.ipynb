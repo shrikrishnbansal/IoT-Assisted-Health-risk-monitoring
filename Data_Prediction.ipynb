{
 "cells": [
  {
   "cell_type": "code",
   "execution_count": 1,
   "metadata": {},
   "outputs": [],
   "source": [
    "#import required libraries\n",
    "import numpy as np\n",
    "import pandas as pd\n",
    "from sklearn.model_selection import train_test_split\n",
    "#from sklearn.cross_validation import train_test_split\n",
    "from sklearn.metrics import accuracy_score\n",
    "from sklearn.metrics import classification_report\n",
    "from sklearn.neighbors import KNeighborsClassifier\n",
    "from sklearn.svm import SVC\n",
    "from sklearn.neural_network import MLPClassifier\n",
    "from sklearn.tree import DecisionTreeClassifier\n",
    "from sklearn.naive_bayes import GaussianNB \n",
    "from sklearn.preprocessing import StandardScaler\n",
    "from sklearn.metrics import mean_absolute_error"
   ]
  },
  {
   "cell_type": "code",
   "execution_count": 2,
   "metadata": {},
   "outputs": [],
   "source": [
    "#load excel file\n",
    "df = pd.read_excel('DataLabeled1.xlsx')"
   ]
  },
  {
   "cell_type": "code",
   "execution_count": 3,
   "metadata": {},
   "outputs": [],
   "source": [
    "#df.dropna(subset = [\"Class\"], inplace=True)\n",
    "#df.drop(['DateTime'], axis = 1) "
   ]
  },
  {
   "cell_type": "code",
   "execution_count": 4,
   "metadata": {},
   "outputs": [],
   "source": [
    "#diving x,y into train and test dataset\n",
    "df['Class']=df['Class'].astype(int)\n",
    "x = df.drop('Class', axis=1)\n",
    "y = df['Class']\n",
    "x_train, x_test, y_train, y_test = train_test_split(x, y, test_size=0.25, random_state=42, stratify=y)"
   ]
  },
  {
   "cell_type": "code",
   "execution_count": 5,
   "metadata": {},
   "outputs": [],
   "source": [
    "sc_X = StandardScaler()\n",
    "x_train = sc_X.fit_transform(x_train)\n",
    "x_test = sc_X.transform(x_test)"
   ]
  },
  {
   "cell_type": "code",
   "execution_count": 6,
   "metadata": {},
   "outputs": [],
   "source": [
    "#training a DecisionTreeClassifier\n",
    "model_dtree = DecisionTreeClassifier(max_depth = 2).fit(x_train, y_train) \n",
    "y_pred_dtree = model_dtree.predict(x_test)"
   ]
  },
  {
   "cell_type": "code",
   "execution_count": 7,
   "metadata": {},
   "outputs": [],
   "source": [
    "#training knn\n",
    "model_knn = KNeighborsClassifier(n_neighbors = 15).fit(x_train, y_train)\n",
    "y_pred_knn = model_knn.predict(x_test)"
   ]
  },
  {
   "cell_type": "code",
   "execution_count": 8,
   "metadata": {},
   "outputs": [],
   "source": [
    "#training ann\n",
    "model_ann = MLPClassifier(hidden_layer_sizes=(8,8,8), activation='relu', solver='adam', max_iter=500).fit(x_train,y_train)\n",
    "y_pred_ann = model_ann.predict(x_test)"
   ]
  },
  {
   "cell_type": "code",
   "execution_count": 9,
   "metadata": {},
   "outputs": [],
   "source": [
    "#training SVM\n",
    "model_svm = SVC(kernel = 'linear', C = 1).fit(x_train,y_train)\n",
    "y_pred_svm = model_svm.predict(x_test)"
   ]
  },
  {
   "cell_type": "code",
   "execution_count": 10,
   "metadata": {},
   "outputs": [],
   "source": [
    "#training Naive byes\n",
    "model_nb = GaussianNB().fit(x_train,y_train) \n",
    "y_pred_nb = model_nb.predict(x_test)"
   ]
  },
  {
   "cell_type": "code",
   "execution_count": 11,
   "metadata": {},
   "outputs": [
    {
     "name": "stdout",
     "output_type": "stream",
     "text": [
      "0.8119047619047619\n",
      "0.9142857142857143\n",
      "0.9595238095238096\n",
      "0.9642857142857143\n",
      "0.9404761904761905\n"
     ]
    }
   ],
   "source": [
    "#accuracy on x_test\n",
    "accuracy_nb = accuracy_score(y_test, y_pred_nb)\n",
    "accuracy_knn = accuracy_score(y_test, y_pred_knn)\n",
    "accuracy_svm = accuracy_score(y_test, y_pred_svm)\n",
    "accuracy_ann = accuracy_score(y_test, y_pred_ann)\n",
    "accuracy_dtree = accuracy_score(y_test, y_pred_dtree)\n",
    "print(accuracy_nb)\n",
    "print(accuracy_knn)\n",
    "print(accuracy_svm)\n",
    "print(accuracy_ann)\n",
    "print(accuracy_dtree)"
   ]
  },
  {
   "cell_type": "code",
   "execution_count": 12,
   "metadata": {},
   "outputs": [
    {
     "name": "stdout",
     "output_type": "stream",
     "text": [
      "              precision    recall  f1-score   support\n",
      "\n",
      "           1       0.81      0.78      0.79        32\n",
      "           2       0.43      0.90      0.58        60\n",
      "           3       1.00      0.80      0.89       328\n",
      "\n",
      "    accuracy                           0.81       420\n",
      "   macro avg       0.74      0.83      0.75       420\n",
      "weighted avg       0.90      0.81      0.84       420\n",
      "\n",
      "              precision    recall  f1-score   support\n",
      "\n",
      "           1       0.64      0.78      0.70        32\n",
      "           2       0.71      0.68      0.69        60\n",
      "           3       0.98      0.97      0.98       328\n",
      "\n",
      "    accuracy                           0.91       420\n",
      "   macro avg       0.78      0.81      0.79       420\n",
      "weighted avg       0.92      0.91      0.92       420\n",
      "\n",
      "              precision    recall  f1-score   support\n",
      "\n",
      "           1       0.82      0.88      0.85        32\n",
      "           2       0.84      0.88      0.86        60\n",
      "           3       1.00      0.98      0.99       328\n",
      "\n",
      "    accuracy                           0.96       420\n",
      "   macro avg       0.89      0.91      0.90       420\n",
      "weighted avg       0.96      0.96      0.96       420\n",
      "\n",
      "              precision    recall  f1-score   support\n",
      "\n",
      "           1       0.87      0.84      0.86        32\n",
      "           2       0.86      0.90      0.88        60\n",
      "           3       0.99      0.99      0.99       328\n",
      "\n",
      "    accuracy                           0.96       420\n",
      "   macro avg       0.91      0.91      0.91       420\n",
      "weighted avg       0.96      0.96      0.96       420\n",
      "\n",
      "              precision    recall  f1-score   support\n",
      "\n",
      "           1       0.63      1.00      0.77        32\n",
      "           2       0.88      0.73      0.80        60\n",
      "           3       1.00      0.97      0.99       328\n",
      "\n",
      "    accuracy                           0.94       420\n",
      "   macro avg       0.84      0.90      0.85       420\n",
      "weighted avg       0.95      0.94      0.94       420\n",
      "\n"
     ]
    }
   ],
   "source": [
    "report_nb = classification_report(y_test, y_pred_nb)\n",
    "report_knn = classification_report(y_test, y_pred_knn)\n",
    "report_svm = classification_report(y_test, y_pred_svm)\n",
    "report_ann = classification_report(y_test, y_pred_ann)\n",
    "report_dtree = classification_report(y_test, y_pred_dtree)\n",
    "print(report_nb)\n",
    "print(report_knn)\n",
    "print(report_svm)\n",
    "print(report_ann)\n",
    "print(report_dtree)"
   ]
  },
  {
   "cell_type": "code",
   "execution_count": 13,
   "metadata": {
    "scrolled": true
   },
   "outputs": [
    {
     "name": "stdout",
     "output_type": "stream",
     "text": [
      "0.1880952380952381\n",
      "0.08571428571428572\n",
      "0.04047619047619048\n",
      "0.03571428571428571\n",
      "0.06666666666666667\n"
     ]
    }
   ],
   "source": [
    "MEA_nb = mean_absolute_error(y_test, y_pred_nb)\n",
    "MEA_knn = mean_absolute_error(y_test, y_pred_knn)\n",
    "MEA_svm = mean_absolute_error(y_test, y_pred_svm)\n",
    "MEA_ann = mean_absolute_error(y_test, y_pred_ann)\n",
    "MEA_dtree = mean_absolute_error(y_test, y_pred_dtree)\n",
    "print(MEA_nb)\n",
    "print(MEA_knn)\n",
    "print(MEA_svm)\n",
    "print(MEA_ann)\n",
    "print(MEA_dtree)"
   ]
  },
  {
   "cell_type": "code",
   "execution_count": null,
   "metadata": {},
   "outputs": [],
   "source": []
  }
 ],
 "metadata": {
  "kernelspec": {
   "display_name": "Python 3",
   "language": "python",
   "name": "python3"
  },
  "language_info": {
   "codemirror_mode": {
    "name": "ipython",
    "version": 3
   },
   "file_extension": ".py",
   "mimetype": "text/x-python",
   "name": "python",
   "nbconvert_exporter": "python",
   "pygments_lexer": "ipython3",
   "version": "3.7.3"
  }
 },
 "nbformat": 4,
 "nbformat_minor": 4
}
