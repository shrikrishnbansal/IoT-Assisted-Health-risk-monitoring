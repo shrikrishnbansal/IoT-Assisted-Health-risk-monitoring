{
 "cells": [
  {
   "cell_type": "code",
   "execution_count": 26,
   "metadata": {},
   "outputs": [],
   "source": [
    "#import required libraries\n",
    "import numpy as np\n",
    "import pandas as pd\n",
    "from sklearn.model_selection import train_test_split\n",
    "from sklearn.model_selection import cross_val_score\n",
    "from sklearn.model_selection import StratifiedKFold\n",
    "from sklearn.preprocessing import StandardScaler\n",
    "from sklearn.pipeline import make_pipeline\n",
    "from sklearn.neighbors import KNeighborsClassifier\n",
    "from sklearn.svm import SVC\n",
    "from sklearn.neural_network import MLPClassifier\n",
    "from sklearn.tree import DecisionTreeClassifier\n",
    "from sklearn.naive_bayes import GaussianNB"
   ]
  },
  {
   "cell_type": "code",
   "execution_count": 27,
   "metadata": {},
   "outputs": [],
   "source": [
    "#load excel file\n",
    "df = pd.read_excel('DataLabeled.xlsx')"
   ]
  },
  {
   "cell_type": "code",
   "execution_count": 29,
   "metadata": {},
   "outputs": [
    {
     "name": "stdout",
     "output_type": "stream",
     "text": [
      "593\n",
      "1539\n",
      "19799\n"
     ]
    }
   ],
   "source": [
    "print(len(df[df.Class==1]))\n",
    "print(len(df[df.Class==2]))\n",
    "print(len(df[df.Class==3]))"
   ]
  },
  {
   "cell_type": "code",
   "execution_count": 30,
   "metadata": {},
   "outputs": [],
   "source": [
    "#df.dropna(subset = [\"Class\"], inplace=True)\n",
    "df.drop(['DateTime'], axis = 1, inplace=True) "
   ]
  },
  {
   "cell_type": "code",
   "execution_count": 31,
   "metadata": {},
   "outputs": [],
   "source": [
    "kfold = StratifiedKFold(n_splits=5, shuffle=False)\n",
    "\n",
    "df['Class']=df['Class'].astype(int)\n",
    "x = df.drop('Class', axis=1)\n",
    "y = df['Class']"
   ]
  },
  {
   "cell_type": "code",
   "execution_count": 32,
   "metadata": {},
   "outputs": [],
   "source": [
    "from imblearn.pipeline import Pipeline\n",
    "from imblearn.over_sampling import RandomOverSampler\n",
    "from imblearn.under_sampling import RandomUnderSampler\n",
    "\n",
    "under = RandomUnderSampler(sampling_strategy='majority')\n",
    "x_resampled, y_resampled = under.fit_resample(x, y)"
   ]
  },
  {
   "cell_type": "code",
   "execution_count": 33,
   "metadata": {},
   "outputs": [
    {
     "name": "stdout",
     "output_type": "stream",
     "text": [
      "acuuracy_mean = 0.8639\n",
      "pre_weight_mean = 0.9163\n",
      "recall_weight_mean = 0.8639\n",
      "f1_weight_mean = 0.8707\n"
     ]
    }
   ],
   "source": [
    "#DTREE\n",
    "model_dtree = DecisionTreeClassifier(max_depth = 2, criterion='entropy', random_state=0)\n",
    "pipeline_dtree = make_pipeline(StandardScaler(), model_dtree)\n",
    "\n",
    "print(\"acuuracy_mean = %0.4f\" %cross_val_score(pipeline_dtree, x_resampled, y_resampled, scoring=\"accuracy\", cv = kfold).mean())\n",
    "print(\"pre_weight_mean = %0.4f\" %cross_val_score(pipeline_dtree, x_resampled, y_resampled, scoring=\"precision_weighted\", cv = kfold).mean())\n",
    "print(\"recall_weight_mean = %0.4f\" %cross_val_score(pipeline_dtree, x_resampled, y_resampled, scoring=\"recall_weighted\", cv = kfold).mean())\n",
    "print(\"f1_weight_mean = %0.4f\" %cross_val_score(pipeline_dtree, x_resampled, y_resampled, scoring=\"f1_weighted\", cv = kfold).mean())"
   ]
  },
  {
   "cell_type": "code",
   "execution_count": 34,
   "metadata": {},
   "outputs": [
    {
     "name": "stdout",
     "output_type": "stream",
     "text": [
      "acuuracy_mean = 0.9629\n",
      "pre_weight_mean = 0.9613\n",
      "recall_weight_mean = 0.9651\n",
      "f1_weight_mean = 0.9627\n"
     ]
    }
   ],
   "source": [
    "#ANN\n",
    "model_ann = MLPClassifier(hidden_layer_sizes=(8,8,8), activation='relu', solver='adam', max_iter=1500)\n",
    "pipeline_ann = make_pipeline(StandardScaler(), model_ann)\n",
    "\n",
    "print(\"acuuracy_mean = %0.4f\" %cross_val_score(pipeline_ann, x_resampled, y_resampled, scoring=\"accuracy\", cv = kfold).mean())\n",
    "print(\"pre_weight_mean = %0.4f\" %cross_val_score(pipeline_ann, x_resampled, y_resampled, scoring=\"precision_weighted\", cv = kfold).mean())\n",
    "print(\"recall_weight_mean = %0.4f\" %cross_val_score(pipeline_ann, x_resampled, y_resampled, scoring=\"recall_weighted\", cv = kfold).mean())\n",
    "print(\"f1_weight_mean = %0.4f\" %cross_val_score(pipeline_ann, x_resampled, y_resampled, scoring=\"f1_weighted\", cv = kfold).mean())"
   ]
  },
  {
   "cell_type": "code",
   "execution_count": 35,
   "metadata": {},
   "outputs": [
    {
     "name": "stdout",
     "output_type": "stream",
     "text": [
      "acuuracy_mean = 0.8231\n",
      "pre_weight_mean = 0.8304\n",
      "recall_weight_mean = 0.8231\n",
      "f1_weight_mean = 0.8172\n"
     ]
    }
   ],
   "source": [
    "#KNN\n",
    "model_knn = KNeighborsClassifier(n_neighbors = 15)\n",
    "pipeline_knn = make_pipeline(StandardScaler(), model_knn)\n",
    "\n",
    "print(\"acuuracy_mean = %0.4f\" %cross_val_score(pipeline_knn, x_resampled, y_resampled, scoring=\"accuracy\", cv = kfold).mean())\n",
    "print(\"pre_weight_mean = %0.4f\" %cross_val_score(pipeline_knn, x_resampled, y_resampled, scoring=\"precision_weighted\", cv = kfold).mean())\n",
    "print(\"recall_weight_mean = %0.4f\" %cross_val_score(pipeline_knn, x_resampled, y_resampled, scoring=\"recall_weighted\", cv = kfold).mean())\n",
    "print(\"f1_weight_mean = %0.4f\" %cross_val_score(pipeline_knn, x_resampled, y_resampled, scoring=\"f1_weighted\", cv = kfold).mean())"
   ]
  },
  {
   "cell_type": "code",
   "execution_count": 36,
   "metadata": {},
   "outputs": [
    {
     "name": "stdout",
     "output_type": "stream",
     "text": [
      "acuuracy_mean = 0.9002\n",
      "pre_weight_mean = 0.9014\n",
      "recall_weight_mean = 0.9002\n",
      "f1_weight_mean = 0.8986\n"
     ]
    }
   ],
   "source": [
    "#SVM\n",
    "model_svm = SVC(kernel = 'linear', C = 1)\n",
    "pipeline_svm = make_pipeline(StandardScaler(), model_svm)\n",
    "\n",
    "print(\"acuuracy_mean = %0.4f\" %cross_val_score(pipeline_svm, x_resampled, y_resampled, scoring=\"accuracy\", cv = kfold).mean())\n",
    "print(\"pre_weight_mean = %0.4f\" %cross_val_score(pipeline_svm, x_resampled, y_resampled, scoring=\"precision_weighted\", cv = kfold).mean())\n",
    "print(\"recall_weight_mean = %0.4f\" %cross_val_score(pipeline_svm, x_resampled, y_resampled, scoring=\"recall_weighted\", cv = kfold).mean())\n",
    "print(\"f1_weight_mean = %0.4f\" %cross_val_score(pipeline_svm, x_resampled, y_resampled, scoring=\"f1_weighted\", cv = kfold).mean())"
   ]
  },
  {
   "cell_type": "code",
   "execution_count": 37,
   "metadata": {},
   "outputs": [
    {
     "name": "stdout",
     "output_type": "stream",
     "text": [
      "acuuracy_mean = 0.8738\n",
      "pre_weight_mean = 0.8772\n",
      "recall_weight_mean = 0.8738\n",
      "f1_weight_mean = 0.8730\n"
     ]
    }
   ],
   "source": [
    "#NB\n",
    "model_nb = GaussianNB()\n",
    "pipeline_nb = make_pipeline(StandardScaler(), model_nb)\n",
    "\n",
    "print(\"acuuracy_mean = %0.4f\" %cross_val_score(pipeline_nb, x_resampled, y_resampled, scoring=\"accuracy\", cv = kfold).mean())\n",
    "print(\"pre_weight_mean = %0.4f\" %cross_val_score(pipeline_nb, x_resampled, y_resampled, scoring=\"precision_weighted\", cv = kfold).mean())\n",
    "print(\"recall_weight_mean = %0.4f\" %cross_val_score(pipeline_nb, x_resampled, y_resampled, scoring=\"recall_weighted\", cv = kfold).mean())\n",
    "print(\"f1_weight_mean = %0.4f\" %cross_val_score(pipeline_nb, x_resampled, y_resampled, scoring=\"f1_weighted\", cv = kfold).mean())"
   ]
  },
  {
   "cell_type": "code",
   "execution_count": null,
   "metadata": {},
   "outputs": [],
   "source": []
  }
 ],
 "metadata": {
  "kernelspec": {
   "display_name": "Python 3",
   "language": "python",
   "name": "python3"
  },
  "language_info": {
   "codemirror_mode": {
    "name": "ipython",
    "version": 3
   },
   "file_extension": ".py",
   "mimetype": "text/x-python",
   "name": "python",
   "nbconvert_exporter": "python",
   "pygments_lexer": "ipython3",
   "version": "3.8.5"
  }
 },
 "nbformat": 4,
 "nbformat_minor": 4
}
